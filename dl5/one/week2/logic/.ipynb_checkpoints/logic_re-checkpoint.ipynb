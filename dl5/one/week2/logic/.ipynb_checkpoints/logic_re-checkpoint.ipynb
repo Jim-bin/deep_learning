{
 "cells": [
  {
   "cell_type": "code",
   "execution_count": 1,
   "metadata": {},
   "outputs": [],
   "source": [
    "import numpy as np\n",
    "import matplotlib.pyplot as plt\n",
    "import h5py\n",
    "import scipy\n",
    "from PIL import Image\n",
    "from scipy import ndimage\n",
    "from lr_utils import load_dataset\n",
    "import skimage\n",
    "%matplotlib inline"
   ]
  },
  {
   "cell_type": "code",
   "execution_count": 2,
   "metadata": {},
   "outputs": [],
   "source": [
    "import numpy as np\n",
    "import h5py\n",
    "\n",
    "\n",
    "def load_dataset():\n",
    "    train_dataset = h5py.File('datasets/train_catvnoncat.h5', \"r\")\n",
    "    train_set_x_orig = np.array(train_dataset[\"train_set_x\"][:]) # your train set features\n",
    "    train_set_y_orig = np.array(train_dataset[\"train_set_y\"][:]) # your train set labels\n",
    "\n",
    "    test_dataset = h5py.File('datasets/test_catvnoncat.h5', \"r\")\n",
    "    test_set_x_orig = np.array(test_dataset[\"test_set_x\"][:]) # your test set features\n",
    "    test_set_y_orig = np.array(test_dataset[\"test_set_y\"][:]) # your test set labels\n",
    "\n",
    "    classes = np.array(test_dataset[\"list_classes\"][:]) # the list of classes\n",
    "\n",
    "    train_set_y_orig = train_set_y_orig.reshape((1, train_set_y_orig.shape[0]))\n",
    "    test_set_y_orig = test_set_y_orig.reshape((1, test_set_y_orig.shape[0]))\n",
    "\n",
    "    return train_set_x_orig, train_set_y_orig, test_set_x_orig, test_set_y_orig, classes"
   ]
  },
  {
   "cell_type": "code",
   "execution_count": 3,
   "metadata": {},
   "outputs": [
    {
     "name": "stdout",
     "output_type": "stream",
     "text": [
      "(209, 64, 64, 3)\n",
      "y = [0], it's a 'non-cat' picture.\n"
     ]
    },
    {
     "data": {
      "image/png": "[encoded data removed]",
      "text/plain": [
       "<Figure size 432x288 with 1 Axes>"
      ]
     },
     "metadata": {
      "needs_background": "light"
     },
     "output_type": "display_data"
    }
   ],
   "source": [
    "# Loading the data (cat/non-cat)\n",
    "train_set_x_orig, train_set_y, test_set_x_orig, test_set_y, classes = load_dataset()\n",
    "print(train_set_x_orig.shape)\n",
    "# Example of a picture\n",
    "index = 3\n",
    "example = train_set_x_orig[index]\n",
    "plt.imshow(train_set_x_orig[index])\n",
    "print (\"y = \" + str(train_set_y[:, index]) + \", it's a '\" + classes[np.squeeze(train_set_y[:, index])].decode(\"utf-8\") +  \"' picture.\")"
   ]
  },
  {
   "cell_type": "code",
   "execution_count": 4,
   "metadata": {},
   "outputs": [
    {
     "name": "stdout",
     "output_type": "stream",
     "text": [
      "(209, 64, 64, 3) (1, 209) (50, 64, 64, 3) (1, 50)\n"
     ]
    }
   ],
   "source": [
    "print(train_set_x_orig.shape, train_set_y.shape, test_set_x_orig.shape, test_set_y.shape)"
   ]
  },
  {
   "cell_type": "markdown",
   "metadata": {},
   "source": [
    "### 得到数据"
   ]
  },
  {
   "cell_type": "code",
   "execution_count": 5,
   "metadata": {},
   "outputs": [
    {
     "name": "stdout",
     "output_type": "stream",
     "text": [
      "Number of training examples: m_train = 209\n",
      "Number of testing examples: m_test = 50\n",
      "Height/Width of each image: num_px = 64\n",
      "Each image is of size: (64, 64, 3)\n",
      "train_set_x shape: (209, 64, 64, 3)\n",
      "train_set_y shape: (1, 209)\n",
      "test_set_x shape: (50, 64, 64, 3)\n",
      "test_set_y shape: (1, 50)\n"
     ]
    }
   ],
   "source": [
    "m_train = train_set_x_orig.shape[0]\n",
    "m_test = test_set_x_orig.shape[0]\n",
    "num_px = train_set_x_orig.shape[2]\n",
    "\n",
    "print (\"Number of training examples: m_train = \" + str(m_train))\n",
    "print (\"Number of testing examples: m_test = \" + str(m_test))\n",
    "print (\"Height/Width of each image: num_px = \" + str(num_px))\n",
    "print (\"Each image is of size: (\" + str(num_px) + \", \" + str(num_px) + \", 3)\")\n",
    "print (\"train_set_x shape: \" + str(train_set_x_orig.shape))\n",
    "print (\"train_set_y shape: \" + str(train_set_y.shape))\n",
    "print (\"test_set_x shape: \" + str(test_set_x_orig.shape))\n",
    "print (\"test_set_y shape: \" + str(test_set_y.shape))"
   ]
  },
  {
   "cell_type": "markdown",
   "metadata": {},
   "source": [
    "### 扁平化"
   ]
  },
  {
   "cell_type": "code",
   "execution_count": 6,
   "metadata": {},
   "outputs": [
    {
     "name": "stdout",
     "output_type": "stream",
     "text": [
      "train_set_x_flatten shape: (12288, 209)\n",
      "train_set_y shape: (1, 209)\n",
      "test_set_x_flatten shape: (12288, 50)\n",
      "test_set_y shape: (1, 50)\n",
      "sanity check after reshaping: [17 31 56 22 33]\n"
     ]
    }
   ],
   "source": [
    "train_set_x_flatten = train_set_x_orig.reshape(train_set_x_orig.shape[0], -1).T\n",
    "test_set_x_flatten = test_set_x_orig.reshape(test_set_x_orig.shape[0], -1).T\n",
    "\n",
    "print (\"train_set_x_flatten shape: \" + str(train_set_x_flatten.shape))\n",
    "print (\"train_set_y shape: \" + str(train_set_y.shape))\n",
    "print (\"test_set_x_flatten shape: \" + str(test_set_x_flatten.shape))\n",
    "print (\"test_set_y shape: \" + str(test_set_y.shape))\n",
    "print (\"sanity check after reshaping: \" + str(train_set_x_flatten[0:5,0]))"
   ]
  },
  {
   "cell_type": "markdown",
   "metadata": {},
   "source": [
    "### 归一化"
   ]
  },
  {
   "cell_type": "code",
   "execution_count": 7,
   "metadata": {},
   "outputs": [],
   "source": [
    "train_set_x = train_set_x_flatten / 255.0\n",
    "test_set_x = test_set_x_flatten / 255.0"
   ]
  },
  {
   "cell_type": "markdown",
   "metadata": {},
   "source": [
    "### sigmoid函数"
   ]
  },
  {
   "cell_type": "code",
   "execution_count": 8,
   "metadata": {},
   "outputs": [
    {
     "data": {
      "text/plain": [
       "0.5"
      ]
     },
     "execution_count": 8,
     "metadata": {},
     "output_type": "execute_result"
    }
   ],
   "source": [
    "def sigmoid(z):\n",
    "    s = 1.0 / (1 + np.exp(-z))\n",
    "    return s\n",
    "sigmoid(10)\n",
    "sigmoid(0)"
   ]
  },
  {
   "cell_type": "markdown",
   "metadata": {},
   "source": [
    "### 初始化参数"
   ]
  },
  {
   "cell_type": "code",
   "execution_count": 9,
   "metadata": {},
   "outputs": [
    {
     "name": "stdout",
     "output_type": "stream",
     "text": [
      "(array([[-0.89148385],\n",
      "       [ 1.09231902]]), 0)\n"
     ]
    }
   ],
   "source": [
    "def initialize_parameters(dims):\n",
    "    W = np.random.randn(dims, 1)\n",
    "    b = 0\n",
    "    assert(W.shape == (dims, 1))\n",
    "    assert(isinstance(b, float) or isinstance(b, int))\n",
    "    return W, b\n",
    "\n",
    "print(initialize_parameters(2))"
   ]
  },
  {
   "cell_type": "markdown",
   "metadata": {},
   "source": [
    "### 计算交叉熵，向前传播"
   ]
  },
  {
   "cell_type": "code",
   "execution_count": 64,
   "metadata": {},
   "outputs": [
    {
     "name": "stdout",
     "output_type": "stream",
     "text": [
      "m is:  209\n",
      "n is:  12288\n",
      "w shape is:  (12288, 1)\n",
      "X shape is:  (12288, 209)\n",
      "Y shape is:  (1, 209)\n",
      "X.T length:  209\n",
      "w length:  12288\n"
     ]
    }
   ],
   "source": [
    "m = train_set_x.shape[1]\n",
    "n = train_set_x.shape[0]\n",
    "print(\"m is: \", m)\n",
    "print(\"n is: \", n)\n",
    "\n",
    "X = train_set_x\n",
    "Y = train_set_y\n",
    "epsilon = 1e-5\n",
    "learning_rate = 0.05\n",
    "\n",
    "W, b = initialize_parameters(n)\n",
    "w = W.reshape(n, 1)\n",
    "print(\"w shape is: \", w.shape)\n",
    "print(\"X shape is: \", X.shape)\n",
    "print(\"Y shape is: \", Y.shape)\n",
    "print(\"X.T length: \", len(X.T))\n",
    "print(\"w length: \", len(w))\n",
    "\n",
    "def propagate(X, Y, w, b):\n",
    "    Z = np.dot(w.T, X) + b\n",
    "    A = sigmoid(Z)\n",
    "    J = -1.0 / m * np.sum(Y * np.log(A + epsilon) + (1 - Y) * np.log(1 - A + epsilon), axis=1)\n",
    "    \n",
    "#     print(J)\n",
    "    J = np.squeeze(J)\n",
    "    #     print(J)\n",
    "    dw = 1.0 / m * np.dot(X, (A - Y).T)\n",
    "    db = 1.0 / m * np.sum(A - Y, axis=1)\n",
    "    \n",
    "    assert(dw.shape == w.shape)\n",
    "    assert(db.dtype == float)\n",
    "    assert(J.shape == ()) \n",
    "    grads = {\n",
    "        \"dw\":dw,\n",
    "        \"db\":db\n",
    "    }\n",
    "    return J, grads\n"
   ]
  },
  {
   "cell_type": "markdown",
   "metadata": {},
   "source": [
    "### 优化，反向传播\n"
   ]
  },
  {
   "cell_type": "code",
   "execution_count": 71,
   "metadata": {},
   "outputs": [
    {
     "name": "stdout",
     "output_type": "stream",
     "text": [
      "5.5098971421192315\n",
      "3.3286358723132117\n",
      "2.664727997070649\n",
      "1.9779907703811777\n",
      "1.5660491615506482\n",
      "1.3088739010323465\n",
      "0.4350795947826725\n",
      "0.26800245867585687\n",
      "1.2579004952545465\n",
      "0.08611093701525326\n",
      "[[ 1.44813183]\n",
      " [-0.06550538]\n",
      " [ 0.2836941 ]\n",
      " ...\n",
      " [ 0.4865257 ]\n",
      " [ 1.44373414]\n",
      " [ 0.81335245]]\n"
     ]
    }
   ],
   "source": [
    "def optimise(X, Y, w, b, learning_rate, nums=1000):\n",
    "    JS = []\n",
    "    for i in range(nums):\n",
    "        J, grads = propagate(X, Y, w, b)\n",
    "        dw = grads[\"dw\"]\n",
    "        db = grads[\"db\"]\n",
    "        w = w - learning_rate * dw\n",
    "        b = b - learning_rate * db\n",
    "        \n",
    "        if i % 100 == 0:\n",
    "            print(J)\n",
    "            JS.append(J)\n",
    "            \n",
    "    params = {\n",
    "        \"w\":w,\n",
    "        \"b\":b\n",
    "    }\n",
    "    \n",
    "    grads = {\n",
    "        \"dw\":dw,\n",
    "        \"db\":db\n",
    "    }\n",
    "    \n",
    "    return JS, params, grads\n",
    "\n",
    "JS, params, grads = optimise(X, Y, w, b, learning_rate, nums=1000)\n",
    "# print(w)\n",
    "\n",
    "        "
   ]
  },
  {
   "cell_type": "markdown",
   "metadata": {},
   "source": [
    "### 预测"
   ]
  },
  {
   "cell_type": "code",
   "execution_count": 78,
   "metadata": {},
   "outputs": [
    {
     "name": "stdout",
     "output_type": "stream",
     "text": [
      "[9.99999675e-01 3.07426466e-09 9.88776566e-01 1.00000000e+00\n",
      " 1.00000000e+00 9.80168357e-01 9.99999666e-01 1.00000000e+00\n",
      " 3.83494217e-04 2.08010112e-19 7.87373442e-25 9.99178712e-01\n",
      " 7.29287049e-04 1.00000000e+00 1.00000000e+00 1.39257219e-28\n",
      " 4.24286803e-23 5.87100082e-11 1.00000000e+00 1.85109616e-01\n",
      " 1.00000000e+00 1.00000000e+00 3.83726218e-02 9.09109387e-06\n",
      " 1.00000000e+00 2.12768612e-02 9.99999970e-01 1.00000000e+00\n",
      " 9.99720204e-01 3.90005043e-01 1.00000000e+00 1.19950124e-10\n",
      " 2.44434067e-38 9.99999996e-01 1.20383709e-12 2.24953514e-07\n",
      " 1.00000000e+00 1.00000000e+00 8.03865893e-01 9.98426362e-01\n",
      " 1.09661777e-20 1.00000000e+00 8.99562502e-23 9.59298215e-01\n",
      " 9.99999999e-01 9.80240666e-01 9.99999999e-01 9.87301952e-01\n",
      " 1.00000000e+00 9.99999997e-01 2.74242222e-03 9.99850559e-01\n",
      " 9.99997385e-01 5.89505917e-01 1.00000000e+00 1.84925728e-13\n",
      " 2.73012236e-01 9.45396101e-18 9.99999995e-01 8.66732426e-01\n",
      " 9.99992111e-01 9.37183761e-13 9.82939902e-01 4.93327446e-05\n",
      " 3.18468596e-17 1.00000000e+00 2.98511643e-38 9.99999977e-01\n",
      " 2.21654152e-17 9.99999937e-01 2.28738507e-08 9.99999475e-01\n",
      " 9.99999999e-01 1.94904077e-06 9.99837150e-01 5.84652051e-01\n",
      " 2.01610987e-01 1.12782634e-06 1.00000000e+00 1.00000000e+00\n",
      " 1.16614530e-07 8.09437631e-11 1.00000000e+00 9.19092394e-20\n",
      " 4.66215704e-09 1.00000000e+00 9.99999999e-01 1.38075898e-08\n",
      " 1.33693960e-09 9.99999347e-01 5.78367760e-15 1.00000000e+00\n",
      " 9.99999942e-01 1.06527632e-02 5.56319214e-16 1.00000000e+00\n",
      " 2.67163388e-13 1.11877326e-01 9.99999965e-01 9.98471935e-01\n",
      " 1.55782662e-26 9.99988316e-01 1.00000000e+00 4.50111458e-15\n",
      " 1.28765363e-18 8.97499585e-01 8.52605214e-01 9.35342692e-01\n",
      " 1.47515131e-07 1.00000000e+00 9.99999955e-01 9.99999680e-01\n",
      " 1.00000000e+00 9.99987351e-01 1.00000000e+00 3.40227825e-02\n",
      " 4.75041284e-19 9.74333133e-05 1.00000000e+00 2.33441996e-16\n",
      " 9.99999944e-01 3.07457655e-03 1.49290516e-11 5.12683143e-02\n",
      " 2.00305681e-09 9.99627915e-01 9.99999983e-01 3.78623798e-07\n",
      " 1.00000000e+00 1.00000000e+00 9.99999983e-01 3.44784285e-07\n",
      " 9.97265623e-01 4.69772597e-02 2.33943000e-01 1.00000000e+00\n",
      " 4.05810350e-08 1.23067375e-27 1.60371874e-16 2.16255176e-13\n",
      " 3.62131722e-12 1.00000000e+00 8.48248203e-21 1.00000000e+00\n",
      " 9.99999998e-01 2.19087735e-07 1.00468725e-21 7.19318504e-15\n",
      " 1.00000000e+00 9.67715553e-16 4.44378987e-18 1.00000000e+00\n",
      " 1.00000000e+00 6.75864994e-26 1.00000000e+00 9.99994148e-01\n",
      " 1.00000000e+00 1.00000000e+00 6.41151863e-10 8.96899834e-01\n",
      " 9.99999999e-01 9.99999868e-01 8.79010844e-10 8.57645712e-21\n",
      " 8.62910894e-01 9.99999705e-01 6.19329540e-10 9.99989334e-01\n",
      " 3.35637760e-05 1.38579100e-04 9.76693859e-29 1.53020361e-07\n",
      " 6.01465471e-04 1.00000000e+00 9.99999997e-01 9.99917156e-01\n",
      " 6.10346426e-01 1.94703767e-03 9.99642722e-01 1.71498113e-01\n",
      " 6.46811386e-04 9.99994682e-01 1.35663420e-02 9.99999697e-01\n",
      " 1.00000000e+00 1.00000000e+00 1.00000000e+00 1.00000000e+00\n",
      " 1.55771436e-28 2.15561825e-08 1.00000000e+00 5.67244031e-20\n",
      " 4.62922343e-22 1.55201679e-09 9.99999391e-01 9.83655209e-01\n",
      " 9.99997718e-01 8.29037771e-02 9.99999799e-01 9.99999838e-01\n",
      " 1.00000000e+00 3.10469807e-24 1.00000000e+00 4.26733577e-04\n",
      " 9.99266079e-01 9.99998220e-01 2.28116518e-10 1.00000000e+00\n",
      " 1.23151024e-02]\n",
      "predictions = [[1. 0. 1. 1. 1. 1. 1. 1. 0. 0. 0. 1. 0. 1. 1. 0. 0. 0. 1. 0. 1. 1. 0. 0.\n",
      "  1. 0. 1. 1. 1. 0. 1. 0. 0. 1. 0. 0. 1. 1. 1. 1. 0. 1. 0. 1. 1. 1. 1. 1.\n",
      "  1. 1. 0. 1. 1. 1. 1. 0. 0. 0. 1. 1. 1. 0. 1. 0. 0. 1. 0. 1. 0. 1. 0. 1.\n",
      "  1. 0. 1. 1. 0. 0. 1. 1. 0. 0. 1. 0. 0. 1. 1. 0. 0. 1. 0. 1. 1. 0. 0. 1.\n",
      "  0. 0. 1. 1. 0. 1. 1. 0. 0. 1. 1. 1. 0. 1. 1. 1. 1. 1. 1. 0. 0. 0. 1. 0.\n",
      "  1. 0. 0. 0. 0. 1. 1. 0. 1. 1. 1. 0. 1. 0. 0. 1. 0. 0. 0. 0. 0. 1. 0. 1.\n",
      "  1. 0. 0. 0. 1. 0. 0. 1. 1. 0. 1. 1. 1. 1. 0. 1. 1. 1. 0. 0. 1. 1. 0. 1.\n",
      "  0. 0. 0. 0. 0. 1. 1. 1. 1. 0. 1. 0. 0. 1. 0. 1. 1. 1. 1. 1. 0. 0. 1. 0.\n",
      "  0. 0. 1. 1. 1. 0. 1. 1. 1. 0. 1. 0. 1. 1. 0. 1. 0.]]\n"
     ]
    }
   ],
   "source": [
    "def predict(X, w, b):\n",
    "    m = X.shape[1]\n",
    "    w = w.reshape(X.shape[0], 1)\n",
    "\n",
    "    Y_predict = np.zeros((1, m))\n",
    "    \n",
    "    Z = np.dot(w.T, X) + b\n",
    "    A = sigmoid(Z)\n",
    "    \n",
    "    [print(x) for x in A]\n",
    "    for i in range(A.shape[1]):\n",
    "        if A[0, i] >= 0.5:\n",
    "            Y_predict[0, i] = 1\n",
    "        else:\n",
    "            Y_predict[0, i] = 0\n",
    "            \n",
    "    assert(Y_predict.shape == (1, m))\n",
    "    \n",
    "    return Y_predict\n",
    "\n",
    "# print (\"predictions = \" + str(predict(X, w, b)))\n",
    "    "
   ]
  },
  {
   "cell_type": "markdown",
   "metadata": {},
   "source": [
    "### 综合起来"
   ]
  },
  {
   "cell_type": "code",
   "execution_count": 86,
   "metadata": {},
   "outputs": [
    {
     "name": "stdout",
     "output_type": "stream",
     "text": [
      "7.443463729090637\n",
      "2.754081076399226\n",
      "2.3720041180727174\n",
      "2.0551919759419346\n",
      "1.8027597197279401\n",
      "1.5595109921142665\n",
      "1.349222378413543\n",
      "1.174952530951718\n",
      "1.0365025337018239\n",
      "0.9277754229299656\n",
      "0.8376203513848193\n",
      "0.7610195398527075\n",
      "0.6967991716870563\n",
      "0.6419582839772688\n",
      "0.591181420251814\n",
      "0.5428798917391039\n",
      "0.49857767221343263\n",
      "0.4598916109595685\n",
      "0.4273221834748006\n",
      "0.39974761527743363\n",
      "0.3755598173385928\n",
      "0.3532346182771166\n",
      "0.33168000346981547\n",
      "0.3107571623169403\n",
      "0.2905931429222147\n",
      "0.2710963212246724\n",
      "0.2521708788232164\n",
      "0.23391601658198713\n",
      "0.2166320676239386\n",
      "0.20080796665405887\n",
      "0.18688749139943173\n",
      "0.17481655404543012\n",
      "0.16420660573035892\n",
      "0.15471339037680618\n",
      "0.14612488508861576\n",
      "0.13834654932100673\n",
      "0.1313835584821962\n",
      "0.12529150155481916\n",
      "0.12008045940000549\n",
      "0.1156621827506935\n",
      "0.11189057126791725\n",
      "0.10861402735035562\n",
      "0.10568907257387897\n",
      "0.10296844895222837\n",
      "0.10028432340354593\n",
      "0.09744814244876016\n",
      "0.09429184382208872\n",
      "0.09074021133869921\n",
      "0.08684148290610345\n",
      "0.08271522629711946\n",
      "[8.61672170e-02 4.25333824e-02 9.29530322e-01 2.56876423e-12\n",
      " 3.48728594e-13 4.17584760e-02 1.99292126e-03 9.99982742e-01\n",
      " 4.81195275e-02 5.70973865e-02 8.83367167e-04 9.71555108e-01\n",
      " 2.38156957e-04 9.99846187e-01 9.51850733e-01 6.26140971e-02\n",
      " 1.19656381e-02 4.97441874e-06 1.37913110e-10 9.99999002e-01\n",
      " 4.21210167e-10 1.62588576e-05 2.13943003e-01 3.06964041e-11\n",
      " 9.59801413e-01 9.69463923e-01 3.70529697e-02 9.16304208e-01\n",
      " 2.43280625e-07 9.08750345e-01 1.18014401e-01 1.71900899e-06\n",
      " 3.88465478e-02 5.63556688e-02 2.22692367e-16 3.90381671e-07\n",
      " 1.18175622e-07 1.13872711e-02 9.99970209e-01 3.23954487e-01\n",
      " 1.57339619e-06 8.86766349e-01 9.78952538e-01 1.06978110e-10\n",
      " 2.91508582e-02 7.31633030e-02 6.51616947e-02 9.74384528e-01\n",
      " 6.96512814e-05 1.90527796e-06 8.36270746e-01 1.41805279e-02\n",
      " 4.93474778e-02 2.06076246e-01 9.64027847e-01 5.74481770e-16\n",
      " 9.99999892e-01 9.22645787e-01 8.00242679e-04 9.42588447e-01\n",
      " 9.96442688e-01 1.00000000e+00 1.40815757e-02 8.09624686e-07\n",
      " 1.82981574e-01 1.32830495e-02 3.25029882e-02 5.48467116e-02\n",
      " 9.33463252e-01 1.76597603e-02 2.69508361e-02 9.60475543e-01\n",
      " 5.12973231e-03 7.69658762e-02 3.87965257e-08 1.60718757e-02\n",
      " 1.62685401e-22 2.66166094e-06 8.17203147e-02 2.13956859e-01\n",
      " 1.25879260e-02 3.16782620e-15 3.48508675e-14 9.52324904e-01\n",
      " 9.47598131e-01 1.67851871e-05 1.13471275e-03 5.78850279e-04\n",
      " 9.92926830e-01 7.55520169e-09 1.22469738e-01 1.44294136e-02\n",
      " 9.35112017e-01 9.61917171e-01 9.87435303e-01 1.93242104e-02\n",
      " 8.49239472e-04 9.99978287e-01 1.25861849e-04 1.08280992e-09\n",
      " 5.00578574e-02 3.98811500e-03 9.70124607e-01 2.67562599e-02\n",
      " 9.99999992e-01 4.42739732e-07 1.00000000e+00 8.11855036e-01\n",
      " 9.99860009e-01 9.98494393e-01 9.99999619e-01 9.99999967e-01\n",
      " 4.87571070e-02 2.99621519e-02 3.71928211e-05 4.78922412e-13\n",
      " 1.40502544e-05 9.99999902e-01 3.17747756e-22 1.53375067e-06\n",
      " 7.49014235e-05 8.74391294e-01 2.31107807e-05 1.82112411e-05\n",
      " 8.84666773e-01 1.99628870e-06 9.99667491e-01 1.41560426e-02\n",
      " 9.57467294e-01 9.16010289e-01 4.56004582e-01 1.67766125e-04\n",
      " 5.92047667e-15 9.99999991e-01 8.60941097e-01 8.39748022e-01\n",
      " 8.73545676e-01 9.99999429e-01 6.61799845e-10 1.41921922e-02\n",
      " 2.38201979e-10 2.04435159e-02 9.58721713e-01 4.47667756e-09\n",
      " 9.75966514e-01 8.66651217e-01 9.98113581e-01 2.74352444e-05\n",
      " 9.99995274e-01 9.34958992e-01 2.09784922e-01 6.21017249e-08\n",
      " 1.63218380e-02 1.00000000e+00 3.83922552e-16 5.78753670e-05\n",
      " 9.81910381e-01 6.19149303e-09 1.40143247e-08 3.61378677e-10\n",
      " 2.22798544e-15 1.30712461e-05 8.91965440e-01 6.18672382e-02\n",
      " 9.60840500e-01 5.42451118e-11 9.99890066e-01 8.98283712e-03\n",
      " 2.93392476e-10 9.51184242e-01 9.97813250e-01 9.99998177e-01\n",
      " 4.42965483e-03 1.42552211e-02 9.72392036e-01 9.98610563e-01\n",
      " 1.79729620e-02 9.31562139e-01 1.51750529e-05 8.57679511e-01\n",
      " 1.22143829e-03 3.08749631e-12 1.94391459e-02 1.56915133e-06\n",
      " 3.96086297e-05 1.78669388e-04 7.93478222e-13 9.55819335e-02\n",
      " 9.61759984e-01 1.30167397e-07 2.80695940e-02 9.78035242e-03\n",
      " 9.66714311e-01 4.68342949e-06 6.31355597e-09 7.28984736e-02\n",
      " 3.14612854e-01 9.97136378e-01 7.49111820e-03 1.30531234e-03\n",
      " 9.98712132e-01 5.80672010e-05 2.61364824e-07 1.84855250e-07\n",
      " 7.97941503e-02 4.24464671e-03 1.71709947e-02 1.15652865e-02\n",
      " 4.38887707e-03]\n",
      "[9.71710006e-01 9.99999739e-01 9.94245188e-01 1.00000000e+00\n",
      " 1.21195569e-01 2.24211009e-03 9.65169457e-01 4.36751767e-01\n",
      " 9.99997982e-01 1.05401772e-05 9.70612448e-01 5.04702249e-09\n",
      " 9.99999207e-01 9.99963224e-01 4.05364130e-16 7.09313106e-01\n",
      " 1.42029966e-02 9.98113581e-01 2.68600102e-05 1.16388027e-02\n",
      " 5.23168863e-02 2.07377040e-08 1.24929403e-22 3.77818342e-01\n",
      " 2.63234778e-05 1.00050444e-09 9.99818932e-01 1.81864727e-10\n",
      " 3.41648688e-12 1.00000000e+00 9.99626340e-01 3.80277617e-04\n",
      " 7.21556420e-05 4.56844891e-06 9.99999997e-01 1.15656611e-06\n",
      " 6.59360332e-04 9.99906298e-01 1.00000000e+00 4.24971704e-01\n",
      " 6.82898230e-11 3.27846498e-05 9.53367128e-01 5.58383710e-09\n",
      " 9.99999842e-01 9.99999947e-01 2.27906952e-02 1.00000000e+00\n",
      " 1.00000000e+00 6.72250009e-22]\n",
      "The accuracy of X_train is:  0.9952153110047847\n",
      "The accuracy of X_test is:  0.54\n"
     ]
    }
   ],
   "source": [
    "def model(X_train, Y_train, X_test, Y_test, nums=2000, learning_rate=0.5):\n",
    "    W, b = initialize_parameters(X_train.shape[0])\n",
    "    w = W.reshape(X_train.shape[0], 1)\n",
    "    JS, params, grads = optimise(X_train, Y_train, w, b, learning_rate, nums)\n",
    "    w = params[\"w\"]\n",
    "    b = params[\"b\"]\n",
    "    \n",
    "    Y_predict_train = predict(X_train, w, b)\n",
    "    Y_predict_test = predict(X_test, w, b)\n",
    "    \n",
    "    # 打印准确率\n",
    "    print(\"The accuracy of X_train is: \", 1 - np.mean(np.abs(Y_train - Y_predict_train)))\n",
    "    print(\"The accuracy of X_test is: \", 1 - np.mean(np.abs(Y_test - Y_predict_test)))\n",
    "    \n",
    "    d = {\n",
    "        \"costs\" : JS,\n",
    "        \"Y_predict_train\" : Y_predict_train,\n",
    "        \"Y_predict_test\" : Y_predict_test,\n",
    "        \"w\" : w,\n",
    "        \"b\" : b,\n",
    "        \"learning_rate\" : learning_rate,\n",
    "        \"nums\" : nums\n",
    "    }\n",
    "    return d\n",
    "    \n",
    "\n",
    "d = model(train_set_x, train_set_y, test_set_x, test_set_y, nums=5000, learning_rate=0.01)"
   ]
  },
  {
   "cell_type": "markdown",
   "metadata": {},
   "source": [
    "### 画出代价函数的变化曲线"
   ]
  },
  {
   "cell_type": "code",
   "execution_count": 87,
   "metadata": {},
   "outputs": [
    {
     "data": {
      "image/png": "[encoded data removed]",
      "text/plain": [
       "<Figure size 432x288 with 1 Axes>"
      ]
     },
     "metadata": {
      "needs_background": "light"
     },
     "output_type": "display_data"
    }
   ],
   "source": [
    "costs = np.squeeze(d[\"costs\"])\n",
    "plt.plot(costs)\n",
    "plt.ylabel(\"cost\")\n",
    "plt.xlabel(\"iterations (per hundreds)\")\n",
    "plt.title(\"Learning rate = \" + str(d[\"learning_rate\"]))\n",
    "plt.show()"
   ]
  },
  {
   "cell_type": "code",
   "execution_count": 2,
   "metadata": {},
   "outputs": [
    {
     "name": "stdout",
     "output_type": "stream",
     "text": [
      "7.38905609893065\n"
     ]
    }
   ],
   "source": [
    "import math\n",
    "print(math.exp(2))"
   ]
  },
  {
   "cell_type": "markdown",
   "metadata": {},
   "source": [
    "### hello\n",
    "\n",
    "$$f(x)=sin(x)$$"
   ]
  }
 ],
 "metadata": {
  "kernelspec": {
   "display_name": "Python 3",
   "language": "python",
   "name": "python3"
  },
  "language_info": {
   "codemirror_mode": {
    "name": "ipython",
    "version": 3
   },
   "file_extension": ".py",
   "mimetype": "text/x-python",
   "name": "python",
   "nbconvert_exporter": "python",
   "pygments_lexer": "ipython3",
   "version": "3.7.3"
  },
  "toc": {
   "base_numbering": 1,
   "nav_menu": {},
   "number_sections": true,
   "sideBar": true,
   "skip_h1_title": false,
   "title_cell": "Table of Contents",
   "title_sidebar": "Contents",
   "toc_cell": false,
   "toc_position": {
    "height": "calc(100% - 180px)",
    "left": "10px",
    "top": "150px",
    "width": "365.714px"
   },
   "toc_section_display": true,
   "toc_window_display": true
  }
 },
 "nbformat": 4,
 "nbformat_minor": 2
}
