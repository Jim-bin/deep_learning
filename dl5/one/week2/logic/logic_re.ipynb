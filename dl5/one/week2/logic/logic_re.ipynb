{
 "cells": [
  {
   "cell_type": "code",
   "execution_count": 1,
   "metadata": {},
   "outputs": [],
   "source": [
    "import numpy as np\n",
    "import matplotlib.pyplot as plt\n",
    "import h5py\n",
    "import scipy\n",
    "from PIL import Image\n",
    "from scipy import ndimage\n",
    "from lr_utils import load_dataset\n",
    "import skimage\n",
    "%matplotlib inline"
   ]
  },
  {
   "cell_type": "code",
   "execution_count": 2,
   "metadata": {},
   "outputs": [],
   "source": [
    "import numpy as np\n",
    "import h5py\n",
    "\n",
    "\n",
    "def load_dataset():\n",
    "    train_dataset = h5py.File('datasets/train_catvnoncat.h5', \"r\")\n",
    "    train_set_x_orig = np.array(train_dataset[\"train_set_x\"][:]) # your train set features\n",
    "    train_set_y_orig = np.array(train_dataset[\"train_set_y\"][:]) # your train set labels\n",
    "\n",
    "    test_dataset = h5py.File('datasets/test_catvnoncat.h5', \"r\")\n",
    "    test_set_x_orig = np.array(test_dataset[\"test_set_x\"][:]) # your test set features\n",
    "    test_set_y_orig = np.array(test_dataset[\"test_set_y\"][:]) # your test set labels\n",
    "\n",
    "    classes = np.array(test_dataset[\"list_classes\"][:]) # the list of classes\n",
    "\n",
    "    train_set_y_orig = train_set_y_orig.reshape((1, train_set_y_orig.shape[0]))\n",
    "    test_set_y_orig = test_set_y_orig.reshape((1, test_set_y_orig.shape[0]))\n",
    "\n",
    "    return train_set_x_orig, train_set_y_orig, test_set_x_orig, test_set_y_orig, classes"
   ]
  },
  {
   "cell_type": "code",
   "execution_count": 3,
   "metadata": {},
   "outputs": [
    {
     "name": "stdout",
     "output_type": "stream",
     "text": [
      "(209, 64, 64, 3)\n",
      "y = [0], it's a 'non-cat' picture.\n"
     ]
    },
    {
     "data": {
      "image/png": "[encoded data removed]",
      "text/plain": [
       "<Figure size 432x288 with 1 Axes>"
      ]
     },
     "metadata": {
      "needs_background": "light"
     },
     "output_type": "display_data"
    }
   ],
   "source": [
    "# Loading the data (cat/non-cat)\n",
    "train_set_x_orig, train_set_y, test_set_x_orig, test_set_y, classes = load_dataset()\n",
    "print(train_set_x_orig.shape)\n",
    "# Example of a picture\n",
    "index = 3\n",
    "example = train_set_x_orig[index]\n",
    "plt.imshow(train_set_x_orig[index])\n",
    "print (\"y = \" + str(train_set_y[:, index]) + \", it's a '\" + classes[np.squeeze(train_set_y[:, index])].decode(\"utf-8\") +  \"' picture.\")"
   ]
  },
  {
   "cell_type": "code",
   "execution_count": 4,
   "metadata": {},
   "outputs": [
    {
     "name": "stdout",
     "output_type": "stream",
     "text": [
      "(209, 64, 64, 3) (1, 209) (50, 64, 64, 3) (1, 50)\n"
     ]
    }
   ],
   "source": [
    "print(train_set_x_orig.shape, train_set_y.shape, test_set_x_orig.shape, test_set_y.shape)"
   ]
  },
  {
   "cell_type": "markdown",
   "metadata": {},
   "source": [
    "### 得到数据"
   ]
  },
  {
   "cell_type": "code",
   "execution_count": 5,
   "metadata": {},
   "outputs": [
    {
     "name": "stdout",
     "output_type": "stream",
     "text": [
      "Number of training examples: m_train = 209\n",
      "Number of testing examples: m_test = 50\n",
      "Height/Width of each image: num_px = 64\n",
      "Each image is of size: (64, 64, 3)\n",
      "train_set_x shape: (209, 64, 64, 3)\n",
      "train_set_y shape: (1, 209)\n",
      "test_set_x shape: (50, 64, 64, 3)\n",
      "test_set_y shape: (1, 50)\n"
     ]
    }
   ],
   "source": [
    "m_train = train_set_x_orig.shape[0]\n",
    "m_test = test_set_x_orig.shape[0]\n",
    "num_px = train_set_x_orig.shape[2]\n",
    "\n",
    "print (\"Number of training examples: m_train = \" + str(m_train))\n",
    "print (\"Number of testing examples: m_test = \" + str(m_test))\n",
    "print (\"Height/Width of each image: num_px = \" + str(num_px))\n",
    "print (\"Each image is of size: (\" + str(num_px) + \", \" + str(num_px) + \", 3)\")\n",
    "print (\"train_set_x shape: \" + str(train_set_x_orig.shape))\n",
    "print (\"train_set_y shape: \" + str(train_set_y.shape))\n",
    "print (\"test_set_x shape: \" + str(test_set_x_orig.shape))\n",
    "print (\"test_set_y shape: \" + str(test_set_y.shape))"
   ]
  },
  {
   "cell_type": "markdown",
   "metadata": {},
   "source": [
    "### 扁平化"
   ]
  },
  {
   "cell_type": "code",
   "execution_count": 6,
   "metadata": {},
   "outputs": [
    {
     "name": "stdout",
     "output_type": "stream",
     "text": [
      "train_set_x_flatten shape: (12288, 209)\n",
      "train_set_y shape: (1, 209)\n",
      "test_set_x_flatten shape: (12288, 50)\n",
      "test_set_y shape: (1, 50)\n",
      "sanity check after reshaping: [17 31 56 22 33]\n"
     ]
    }
   ],
   "source": [
    "train_set_x_flatten = train_set_x_orig.reshape(train_set_x_orig.shape[0], -1).T\n",
    "test_set_x_flatten = test_set_x_orig.reshape(test_set_x_orig.shape[0], -1).T\n",
    "\n",
    "print (\"train_set_x_flatten shape: \" + str(train_set_x_flatten.shape))\n",
    "print (\"train_set_y shape: \" + str(train_set_y.shape))\n",
    "print (\"test_set_x_flatten shape: \" + str(test_set_x_flatten.shape))\n",
    "print (\"test_set_y shape: \" + str(test_set_y.shape))\n",
    "print (\"sanity check after reshaping: \" + str(train_set_x_flatten[0:5,0]))"
   ]
  },
  {
   "cell_type": "markdown",
   "metadata": {},
   "source": [
    "### 归一化"
   ]
  },
  {
   "cell_type": "code",
   "execution_count": 7,
   "metadata": {},
   "outputs": [],
   "source": [
    "train_set_x = train_set_x_flatten / 255.0\n",
    "test_set_x = test_set_x_flatten / 255.0"
   ]
  },
  {
   "cell_type": "markdown",
   "metadata": {},
   "source": [
    "### sigmoid函数"
   ]
  },
  {
   "cell_type": "code",
   "execution_count": 8,
   "metadata": {},
   "outputs": [
    {
     "data": {
      "text/plain": [
       "0.5"
      ]
     },
     "execution_count": 8,
     "metadata": {},
     "output_type": "execute_result"
    }
   ],
   "source": [
    "def sigmoid(z):\n",
    "    s = 1.0 / (1 + np.exp(-z))\n",
    "    return s\n",
    "sigmoid(10)\n",
    "sigmoid(0)"
   ]
  },
  {
   "cell_type": "markdown",
   "metadata": {},
   "source": [
    "### 初始化参数"
   ]
  },
  {
   "cell_type": "code",
   "execution_count": 9,
   "metadata": {},
   "outputs": [
    {
     "name": "stdout",
     "output_type": "stream",
     "text": [
      "(array([[0.16726918],\n",
      "       [1.50755307]]), 0)\n"
     ]
    }
   ],
   "source": [
    "def initialize_parameters(dims):\n",
    "    W = np.random.randn(dims, 1)\n",
    "    b = 0\n",
    "    assert(W.shape == (dims, 1))\n",
    "    assert(isinstance(b, float) or isinstance(b, int))\n",
    "    return W, b\n",
    "\n",
    "print(initialize_parameters(2))"
   ]
  },
  {
   "cell_type": "markdown",
   "metadata": {},
   "source": [
    "### 计算交叉熵，向前传播"
   ]
  },
  {
   "cell_type": "code",
   "execution_count": 10,
   "metadata": {},
   "outputs": [
    {
     "name": "stdout",
     "output_type": "stream",
     "text": [
      "m is:  209\n",
      "n is:  12288\n",
      "w shape is:  (12288, 1)\n",
      "X shape is:  (12288, 209)\n",
      "Y shape is:  (1, 209)\n",
      "X.T length:  209\n",
      "w length:  12288\n"
     ]
    }
   ],
   "source": [
    "m = train_set_x.shape[1]\n",
    "n = train_set_x.shape[0]\n",
    "print(\"m is: \", m)\n",
    "print(\"n is: \", n)\n",
    "\n",
    "X = train_set_x\n",
    "Y = train_set_y\n",
    "epsilon = 1e-5\n",
    "learning_rate = 0.05\n",
    "\n",
    "W, b = initialize_parameters(n)\n",
    "w = W.reshape(n, 1)\n",
    "print(\"w shape is: \", w.shape)\n",
    "print(\"X shape is: \", X.shape)\n",
    "print(\"Y shape is: \", Y.shape)\n",
    "print(\"X.T length: \", len(X.T))\n",
    "print(\"w length: \", len(w))\n",
    "\n",
    "def propagate(X, Y, w, b):\n",
    "    Z = np.dot(w.T, X) + b\n",
    "    A = sigmoid(Z)\n",
    "    J = -1.0 / m * np.sum(Y * np.log(A + epsilon) + (1 - Y) * np.log(1 - A + epsilon), axis=1)\n",
    "    \n",
    "#     print(J)\n",
    "    J = np.squeeze(J)\n",
    "    #     print(J)\n",
    "    dw = 1.0 / m * np.dot(X, (A - Y).T)\n",
    "    db = 1.0 / m * np.sum(A - Y, axis=1)\n",
    "    \n",
    "    assert(dw.shape == w.shape)\n",
    "    assert(db.dtype == float)\n",
    "    assert(J.shape == ()) \n",
    "    grads = {\n",
    "        \"dw\":dw,\n",
    "        \"db\":db\n",
    "    }\n",
    "    return J, grads\n"
   ]
  },
  {
   "cell_type": "markdown",
   "metadata": {},
   "source": [
    "### 优化，反向传播\n"
   ]
  },
  {
   "cell_type": "code",
   "execution_count": 11,
   "metadata": {},
   "outputs": [
    {
     "name": "stdout",
     "output_type": "stream",
     "text": [
      "4.351036600734207\n",
      "3.3386438995990986\n",
      "2.5415146216400886\n",
      "1.8286138127315386\n",
      "1.4488110603539146\n",
      "2.070043210918487\n",
      "0.5743357334407704\n",
      "1.78949593985032\n",
      "0.37954094842273417\n",
      "1.4940533946381243\n"
     ]
    }
   ],
   "source": [
    "def optimise(X, Y, w, b, learning_rate, nums=1000):\n",
    "    JS = []\n",
    "    for i in range(nums):\n",
    "        J, grads = propagate(X, Y, w, b)\n",
    "        dw = grads[\"dw\"]\n",
    "        db = grads[\"db\"]\n",
    "        w = w - learning_rate * dw\n",
    "        b = b - learning_rate * db\n",
    "        \n",
    "        if i % 100 == 0:\n",
    "            print(J)\n",
    "            JS.append(J)\n",
    "            \n",
    "    params = {\n",
    "        \"w\":w,\n",
    "        \"b\":b\n",
    "    }\n",
    "    \n",
    "    grads = {\n",
    "        \"dw\":dw,\n",
    "        \"db\":db\n",
    "    }\n",
    "    \n",
    "    return JS, params, grads\n",
    "\n",
    "JS, params, grads = optimise(X, Y, w, b, learning_rate, nums=1000)\n",
    "# print(w)\n",
    "\n",
    "        "
   ]
  },
  {
   "cell_type": "markdown",
   "metadata": {},
   "source": [
    "### 预测"
   ]
  },
  {
   "cell_type": "code",
   "execution_count": 12,
   "metadata": {},
   "outputs": [],
   "source": [
    "def predict(X, w, b):\n",
    "    m = X.shape[1]\n",
    "    w = w.reshape(X.shape[0], 1)\n",
    "\n",
    "    Y_predict = np.zeros((1, m))\n",
    "    \n",
    "    Z = np.dot(w.T, X) + b\n",
    "    A = sigmoid(Z)\n",
    "    \n",
    "    [print(x) for x in A]\n",
    "    for i in range(A.shape[1]):\n",
    "        if A[0, i] >= 0.5:\n",
    "            Y_predict[0, i] = 1\n",
    "        else:\n",
    "            Y_predict[0, i] = 0\n",
    "            \n",
    "    assert(Y_predict.shape == (1, m))\n",
    "    \n",
    "    return Y_predict\n",
    "\n",
    "# print (\"predictions = \" + str(predict(X, w, b)))\n",
    "    "
   ]
  },
  {
   "cell_type": "markdown",
   "metadata": {},
   "source": [
    "### 综合起来"
   ]
  },
  {
   "cell_type": "code",
   "execution_count": 13,
   "metadata": {},
   "outputs": [
    {
     "name": "stdout",
     "output_type": "stream",
     "text": [
      "3.651872836321716\n",
      "4.421386320996598\n",
      "4.004330209418159\n",
      "3.498807707672867\n",
      "3.1331669827534183\n",
      "2.859217888226871\n",
      "2.60768287144981\n",
      "2.375777653691685\n",
      "2.1589430329151136\n",
      "1.9507376211928071\n",
      "1.7527678562640567\n",
      "1.5613245875442392\n",
      "1.375587829916202\n",
      "1.2032990258967802\n",
      "1.053266259904365\n",
      "0.9231968178806864\n",
      "0.8077408732037009\n",
      "0.7064355328069284\n",
      "0.6153066414588885\n",
      "0.5308811000581155\n",
      "0.4579078985786885\n",
      "0.39616542674471994\n",
      "0.34327358864092344\n",
      "0.2996677913713735\n",
      "0.2642068607548199\n",
      "0.23405085707847492\n",
      "0.2078209115621493\n",
      "0.1849761601466045\n",
      "0.1652323218921957\n",
      "0.14831857581423846\n",
      "0.1339625001121346\n",
      "0.12184932506403523\n",
      "0.11160407257660256\n",
      "0.10285408128298464\n",
      "0.0952846256306705\n",
      "0.08865231848615425\n",
      "0.08277557549219283\n",
      "0.07752009546525308\n",
      "0.07278614459503077\n",
      "0.06849885484176299\n",
      "0.0646010789324273\n",
      "0.06104813326703207\n",
      "0.057803928053239195\n",
      "0.05483817240092298\n",
      "0.05212445475552502\n",
      "0.049639034443364226\n",
      "0.04736017414953136\n",
      "0.045267836739226186\n",
      "0.04334358609774371\n",
      "0.041570570145784885\n",
      "[9.76779496e-02 1.01084370e-02 9.75686732e-01 1.00210426e-06\n",
      " 1.64749266e-05 6.56888182e-02 3.84661423e-08 1.00000000e+00\n",
      " 6.19901167e-03 2.41978957e-02 2.09634491e-02 8.67191749e-01\n",
      " 6.30349613e-02 9.99918216e-01 8.26953076e-01 3.37735224e-02\n",
      " 2.09360528e-02 1.34763709e-04 4.99715905e-03 9.99998634e-01\n",
      " 5.07684988e-16 4.62151494e-02 1.38781748e-02 3.18003003e-13\n",
      " 9.39276398e-01 9.44887602e-01 4.15204914e-07 9.90218777e-01\n",
      " 2.82242213e-12 1.00000000e+00 3.41380934e-02 5.99384189e-04\n",
      " 2.01732444e-02 8.72166218e-02 5.66156374e-02 3.19224207e-05\n",
      " 9.98550879e-07 3.47669808e-02 9.90671677e-01 3.26719705e-02\n",
      " 4.01779675e-04 7.93774056e-01 9.41590133e-01 9.44350497e-03\n",
      " 1.13969114e-04 4.25517181e-03 4.76744076e-02 9.14619386e-01\n",
      " 5.97201703e-14 1.85523975e-02 8.42356006e-01 5.72212977e-02\n",
      " 3.84645866e-03 1.44086546e-01 9.88364868e-01 2.51110330e-06\n",
      " 9.82546170e-01 9.59666075e-01 1.38888579e-03 9.98543153e-01\n",
      " 9.99998846e-01 9.67999353e-01 6.16959832e-05 8.93033527e-19\n",
      " 4.78680466e-02 1.19107669e-07 1.23208238e-08 5.97124862e-04\n",
      " 9.30420225e-01 2.29424877e-02 4.68218809e-15 9.99979928e-01\n",
      " 9.78206726e-06 4.37473116e-02 1.07761372e-06 9.73694006e-02\n",
      " 4.88818329e-07 8.87327468e-06 1.17456031e-01 1.73417856e-02\n",
      " 2.75199478e-02 3.17808238e-08 7.41208209e-12 9.38128950e-01\n",
      " 9.38059638e-01 3.64204979e-03 7.64983333e-02 2.12303643e-02\n",
      " 9.71039305e-01 4.15835149e-06 1.07269590e-01 1.08522373e-06\n",
      " 8.16508941e-01 9.83219704e-01 9.99909247e-01 4.75808918e-02\n",
      " 9.11368938e-07 9.99999992e-01 1.46746724e-06 1.21416305e-01\n",
      " 6.21874338e-02 2.42087736e-11 8.90846648e-01 5.40094962e-07\n",
      " 9.83771802e-01 1.18083783e-04 9.99995883e-01 9.65953481e-01\n",
      " 9.75585036e-01 8.52798284e-01 8.89406394e-01 9.99982852e-01\n",
      " 4.97469927e-11 6.91901547e-03 1.75916820e-02 6.77601585e-09\n",
      " 2.30488024e-04 9.99966480e-01 9.42194395e-05 5.97068503e-02\n",
      " 8.36412237e-13 7.89432775e-01 5.87591792e-03 1.38760555e-05\n",
      " 8.99860683e-01 6.31779003e-03 9.99690905e-01 7.00271981e-02\n",
      " 9.93198091e-01 9.98143740e-01 5.40905414e-01 2.61006040e-02\n",
      " 9.63916351e-05 9.93761282e-01 8.99078857e-01 9.42107198e-01\n",
      " 9.55958621e-01 9.72153090e-01 1.52982663e-10 2.82336214e-02\n",
      " 3.36370319e-06 9.03829975e-07 9.32392011e-01 3.84546465e-02\n",
      " 9.14996515e-01 9.69906863e-01 9.80148755e-01 8.74343011e-02\n",
      " 9.32704688e-01 9.89041084e-01 9.64487837e-02 7.33588698e-05\n",
      " 1.86500877e-06 9.77071591e-01 4.38222736e-02 4.80407513e-02\n",
      " 9.02401811e-01 3.10929616e-11 5.89944883e-04 6.17169547e-06\n",
      " 1.89874932e-08 2.29827265e-03 9.63913851e-01 5.40563963e-02\n",
      " 9.99831551e-01 1.13720819e-19 9.94813245e-01 5.69652611e-08\n",
      " 2.94519480e-05 8.63425629e-01 8.62243892e-01 9.98395949e-01\n",
      " 1.69188326e-01 6.84464782e-06 9.71131307e-01 9.14486536e-01\n",
      " 2.21020573e-02 9.37646006e-01 6.27657589e-08 9.90416070e-01\n",
      " 5.56569645e-10 1.02038701e-09 1.16269058e-06 3.16678362e-02\n",
      " 2.69687980e-11 9.11755150e-01 2.38002614e-02 3.73817518e-05\n",
      " 9.16480410e-01 7.17113694e-14 1.28239593e-22 3.59887822e-02\n",
      " 9.38342401e-01 6.59655688e-03 5.96030187e-08 2.08108928e-07\n",
      " 5.18762640e-01 1.00000000e+00 1.27616244e-02 1.64058583e-13\n",
      " 9.22313000e-01 3.36430256e-02 7.74713783e-05 1.76615296e-03\n",
      " 6.90668213e-04 8.90088127e-08 2.29910113e-04 8.24139425e-02\n",
      " 2.70627793e-04]\n",
      "[2.55189201e-03 9.86846094e-01 9.99943314e-01 4.11099098e-11\n",
      " 6.48462739e-05 1.42371377e-01 9.98270135e-01 2.05265343e-04\n",
      " 9.99972990e-01 6.78271247e-01 9.99004887e-01 4.03762387e-11\n",
      " 9.92845910e-01 1.97382909e-17 1.15813218e-21 5.87972070e-04\n",
      " 2.73565738e-05 9.80148755e-01 4.77957805e-05 5.37812431e-04\n",
      " 9.99891763e-01 2.76161103e-05 7.33787795e-01 9.99999923e-01\n",
      " 9.99742773e-01 9.99270308e-01 9.93942793e-01 1.39903347e-14\n",
      " 9.22007654e-06 9.99995829e-01 7.79673327e-04 2.89697889e-01\n",
      " 9.99687168e-01 4.32265228e-05 2.87813160e-04 5.56188505e-03\n",
      " 9.99998303e-01 1.00000000e+00 1.36207556e-14 3.20711912e-09\n",
      " 5.32272475e-10 5.16777423e-12 9.96280051e-01 8.69565288e-01\n",
      " 9.99973600e-01 3.52831963e-04 9.20017485e-01 9.98631867e-01\n",
      " 1.00000000e+00 7.65575555e-04]\n",
      "The accuracy of X_train is:  0.9904306220095693\n",
      "The accuracy of X_test is:  0.62\n"
     ]
    }
   ],
   "source": [
    "def model(X_train, Y_train, X_test, Y_test, nums=2000, learning_rate=0.5):\n",
    "    W, b = initialize_parameters(X_train.shape[0])\n",
    "    w = W.reshape(X_train.shape[0], 1)\n",
    "    JS, params, grads = optimise(X_train, Y_train, w, b, learning_rate, nums)\n",
    "    w = params[\"w\"]\n",
    "    b = params[\"b\"]\n",
    "    \n",
    "    Y_predict_train = predict(X_train, w, b)\n",
    "    Y_predict_test = predict(X_test, w, b)\n",
    "    \n",
    "    # 打印准确率\n",
    "    print(\"The accuracy of X_train is: \", 1 - np.mean(np.abs(Y_train - Y_predict_train)))\n",
    "    print(\"The accuracy of X_test is: \", 1 - np.mean(np.abs(Y_test - Y_predict_test)))\n",
    "    \n",
    "    d = {\n",
    "        \"costs\" : JS,\n",
    "        \"Y_predict_train\" : Y_predict_train,\n",
    "        \"Y_predict_test\" : Y_predict_test,\n",
    "        \"w\" : w,\n",
    "        \"b\" : b,\n",
    "        \"learning_rate\" : learning_rate,\n",
    "        \"nums\" : nums\n",
    "    }\n",
    "    return d\n",
    "    \n",
    "\n",
    "d = model(train_set_x, train_set_y, test_set_x, test_set_y, nums=5000, learning_rate=0.01)"
   ]
  },
  {
   "cell_type": "markdown",
   "metadata": {},
   "source": [
    "### 画出代价函数的变化曲线"
   ]
  },
  {
   "cell_type": "code",
   "execution_count": 14,
   "metadata": {},
   "outputs": [
    {
     "data": {
      "image/png": "[encoded data removed]",
      "text/plain": [
       "<Figure size 432x288 with 1 Axes>"
      ]
     },
     "metadata": {
      "needs_background": "light"
     },
     "output_type": "display_data"
    }
   ],
   "source": [
    "costs = np.squeeze(d[\"costs\"])\n",
    "plt.plot(costs)\n",
    "plt.ylabel(\"cost\")\n",
    "plt.xlabel(\"iterations (per hundreds)\")\n",
    "plt.title(\"Learning rate = \" + str(d[\"learning_rate\"]))\n",
    "plt.show()"
   ]
  },
  {
   "cell_type": "code",
   "execution_count": 15,
   "metadata": {},
   "outputs": [
    {
     "name": "stdout",
     "output_type": "stream",
     "text": [
      "7.38905609893065\n"
     ]
    }
   ],
   "source": [
    "import math\n",
    "print(math.exp(2))"
   ]
  },
  {
   "cell_type": "markdown",
   "metadata": {},
   "source": [
    "### hello\n",
    "\n",
    "$$f(x)=sin(x)$$"
   ]
  },
  {
   "cell_type": "code",
   "execution_count": 16,
   "metadata": {},
   "outputs": [
    {
     "ename": "ModuleNotFoundError",
     "evalue": "No module named 'requests'",
     "output_type": "error",
     "traceback": [
      "\u001b[1;31m---------------------------------------------------------------------------\u001b[0m",
      "\u001b[1;31mModuleNotFoundError\u001b[0m                       Traceback (most recent call last)",
      "\u001b[1;32m<ipython-input-16-e898e0a71c97>\u001b[0m in \u001b[0;36m<module>\u001b[1;34m\u001b[0m\n\u001b[1;32m----> 1\u001b[1;33m \u001b[1;32mimport\u001b[0m \u001b[0mrequests\u001b[0m\u001b[1;33m\u001b[0m\u001b[1;33m\u001b[0m\u001b[0m\n\u001b[0m\u001b[0;32m      2\u001b[0m \u001b[0murl\u001b[0m \u001b[1;33m=\u001b[0m \u001b[1;34m\"https://www.qq.com\"\u001b[0m\u001b[1;33m\u001b[0m\u001b[1;33m\u001b[0m\u001b[0m\n\u001b[0;32m      3\u001b[0m \u001b[0mr\u001b[0m \u001b[1;33m=\u001b[0m \u001b[0mrequests\u001b[0m\u001b[1;33m.\u001b[0m\u001b[0mget\u001b[0m\u001b[1;33m(\u001b[0m\u001b[0murl\u001b[0m\u001b[1;33m)\u001b[0m\u001b[1;33m\u001b[0m\u001b[1;33m\u001b[0m\u001b[0m\n\u001b[0;32m      4\u001b[0m \u001b[0mprint\u001b[0m\u001b[1;33m(\u001b[0m\u001b[0mr\u001b[0m\u001b[1;33m.\u001b[0m\u001b[0mencoding\u001b[0m\u001b[1;33m)\u001b[0m\u001b[1;33m\u001b[0m\u001b[1;33m\u001b[0m\u001b[0m\n",
      "\u001b[1;31mModuleNotFoundError\u001b[0m: No module named 'requests'"
     ]
    }
   ],
   "source": [
    "import requests\n",
    "url = \"https://www.qq.com\"\n",
    "r = requests.get(url)\n",
    "print(r.encoding)"
   ]
  },
  {
   "cell_type": "code",
   "execution_count": null,
   "metadata": {},
   "outputs": [],
   "source": [
    "print(r.text)"
   ]
  },
  {
   "cell_type": "code",
   "execution_count": null,
   "metadata": {},
   "outputs": [],
   "source": []
  },
  {
   "cell_type": "code",
   "execution_count": null,
   "metadata": {},
   "outputs": [],
   "source": []
  }
 ],
 "metadata": {
  "kernelspec": {
   "display_name": "Python 3",
   "language": "python",
   "name": "python3"
  },
  "language_info": {
   "codemirror_mode": {
    "name": "ipython",
    "version": 3
   },
   "file_extension": ".py",
   "mimetype": "text/x-python",
   "name": "python",
   "nbconvert_exporter": "python",
   "pygments_lexer": "ipython3",
   "version": "3.6.8"
  },
  "toc": {
   "base_numbering": 1,
   "nav_menu": {},
   "number_sections": true,
   "sideBar": true,
   "skip_h1_title": false,
   "title_cell": "Table of Contents",
   "title_sidebar": "Contents",
   "toc_cell": false,
   "toc_position": {
    "height": "calc(100% - 180px)",
    "left": "10px",
    "top": "150px",
    "width": "365.712px"
   },
   "toc_section_display": true,
   "toc_window_display": true
  }
 },
 "nbformat": 4,
 "nbformat_minor": 2
}
